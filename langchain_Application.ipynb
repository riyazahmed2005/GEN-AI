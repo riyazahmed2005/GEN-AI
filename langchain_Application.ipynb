{
  "nbformat": 4,
  "nbformat_minor": 0,
  "metadata": {
    "colab": {
      "provenance": [],
      "authorship_tag": "ABX9TyPbHgLLvh2Ddc4hPb7Pdtjl",
      "include_colab_link": true
    },
    "kernelspec": {
      "name": "python3",
      "display_name": "Python 3"
    },
    "language_info": {
      "name": "python"
    }
  },
  "cells": [
    {
      "cell_type": "markdown",
      "metadata": {
        "id": "view-in-github",
        "colab_type": "text"
      },
      "source": [
        "<a href=\"https://colab.research.google.com/github/riyazahmed2005/GEN-AI/blob/main/langchain_Application.ipynb\" target=\"_parent\"><img src=\"https://colab.research.google.com/assets/colab-badge.svg\" alt=\"Open In Colab\"/></a>"
      ]
    },
    {
      "cell_type": "code",
      "execution_count": null,
      "metadata": {
        "id": "tfMzTuhgD3z9"
      },
      "outputs": [],
      "source": [
        "from dotenv import load_dotenv\n",
        "import os\n",
        "from transformers import pipeline\n",
        "from langchain.llms import HuggingFacePipeline\n",
        "from langchain.prompts import PromptTemplate\n",
        "from langchain.chains import LLMChain\n",
        "\n",
        "load_dotenv()\n",
        "\n",
        "api_key = os.getenv(\"API_KEY\")\n",
        "\n",
        "if api_key is None:\n",
        "    raise ValueError(\"API_KEY is not set in the environment variables.\")\n"
      ]
    },
    {
      "cell_type": "code",
      "source": [
        "hf_pipeline = pipeline(\n",
        "    \"text2text-generation\",\n",
        "    model=\"google/flan-t5-large\",\n",
        "    model_kwargs={\"temperature\": 1, \"max_length\": 500},\n",
        "    token=api_key\n",
        ")"
      ],
      "metadata": {
        "id": "GJs-fXJSE0j_"
      },
      "execution_count": null,
      "outputs": []
    },
    {
      "cell_type": "code",
      "source": [
        "\n",
        "\n",
        "llm = HuggingFacePipeline(pipeline=hf_pipeline)"
      ],
      "metadata": {
        "id": "lJUVA8NYFIDj"
      },
      "execution_count": null,
      "outputs": []
    },
    {
      "cell_type": "code",
      "source": [
        "  template = \"\"\"Question: {question}\n",
        "\n",
        "Answer: Let's think step by step.\"\"\"\n",
        "prompt = PromptTemplate(template=template, input_variables=[\"question\"])"
      ],
      "metadata": {
        "id": "3UeVO18qF3J0"
      },
      "execution_count": null,
      "outputs": []
    },
    {
      "cell_type": "code",
      "source": [
        "llm_chain = LLMChain(prompt=prompt, llm=llm)\n",
        "\n",
        "\n",
        "question = \"Explain the concept of black holes in simple terms.\"\n",
        "\n",
        "llm_chain.run(question)"
      ],
      "metadata": {
        "id": "W5MoqDKpGPz7"
      },
      "execution_count": null,
      "outputs": []
    },
    {
      "cell_type": "code",
      "source": [
        "\n"
      ],
      "metadata": {
        "id": "l8APZDTnQfOV"
      },
      "execution_count": null,
      "outputs": []
    },
    {
      "cell_type": "code",
      "source": [],
      "metadata": {
        "id": "LaOJTrO9Qiit"
      },
      "execution_count": null,
      "outputs": []
    }
  ]
}